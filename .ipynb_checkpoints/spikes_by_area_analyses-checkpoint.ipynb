{
 "cells": [
  {
   "cell_type": "markdown",
   "metadata": {},
   "source": [
    "# Introduction\n",
    "## Research Question \n",
    "\n",
    "What is the information flow from visual stream to motor processing and how early in processing can we predict behavioural outcomes.\n",
    "- Can decoding models be trained by region \n",
    "- How accurate are the modeled regions at predicting a behaviour \n",
    "- Possible behaviours (correct vs. incorrect) \n",
    "- Movement of wheel"
   ]
  },
  {
   "cell_type": "markdown",
   "metadata": {},
   "source": [
    "## Brief background\n",
    "The Steinmetz (2018) dataset reported that neurons with action correlates are found globally and that neurons in nearly every brain region are non-selectively activated in the moments leading up to movement onset, however it is currently not known how the information integration occurs across the motor areas and how that integration gives rise to motor behaviour.\n",
    "\n",
    "Neuron population coding has been robustly used to decode motor behaviours across various species (Georgopoulos et al., 1986), and recent literature has suggested that motor preparation and planning uses distributed populations in corticomotor areas to plan motor movements. However this previous work has been limited by the number of electrodes and therefore areas measured in a single task.\n",
    "\n",
    "The following assignment seeks to take advantage of the multi-array recording from the Steinmetz (2018) neuropixel data set to investigate temporal aspects of motor behaviours."
   ]
  },
  {
   "cell_type": "markdown",
   "metadata": {},
   "source": [
    "# Data Analyses\n",
    ":brain: :mouse: :brain:\n",
    "\n",
    "## Set Up"
   ]
  },
  {
   "cell_type": "code",
   "execution_count": 1,
   "metadata": {},
   "outputs": [],
   "source": [
    "import pandas as pd\n",
    "import numpy as np\n",
    "import dataframe_image as dfi\n",
    "from matplotlib import rcParams \n",
    "from matplotlib import pyplot as plt\n",
    "\n",
    "rcParams['figure.figsize'] = [15, 5]\n",
    "rcParams['font.size'] = 15\n",
    "rcParams['axes.spines.top'] = False\n",
    "rcParams['axes.spines.right'] = False\n",
    "rcParams['figure.autolayout'] = True"
   ]
  },
  {
   "cell_type": "code",
   "execution_count": null,
   "metadata": {},
   "outputs": [],
   "source": [
    "import os, requests\n",
    "\n",
    "import pathlib\n",
    "pathlib.Path('/Users/sophiabatchelor/Code/Interview/SteinmetzData').mkdir(parents=True, exist_ok=True)\n",
    "\n",
    "fname = []\n",
    "for j in range(3):\n",
    "    fname.append('steinmetz_part%d.npz'%j)\n",
    "url = ['https://osf.io/agvxh/download']\n",
    "url.append('https://osf.io/uv3mw/download')\n",
    "url.append('https://osf.io/ehmw2/download')\n",
    "\n",
    "for i in range(len(url)):\n",
    "    if not os.path.isfile(fname[i]):\n",
    "        try:\n",
    "            r = requests.get(url[i])\n",
    "        except requests.ConnectionError:\n",
    "            print(\"Data could not download!\")\n",
    "        else:\n",
    "            if r.status_code != requests.codes.ok:\n",
    "                print(\"Data could not download!\")\n",
    "            else:\n",
    "                with open(fname[i], \"wb\") as fid:\n",
    "                    fid.write(r.content)\n",
    "                    \n",
    "\n",
    "steinmetz_data = np.array([])\n",
    "for i in range(len(fname)):\n",
    "    for i in range(len(fname)):\n",
    "        steinmetz_data = np.hstack((steinmetz_data, np.load('steinmetz_part%d.npz'%i, allow_pickle=True)['dat']))"
   ]
  },
  {
   "cell_type": "markdown",
   "metadata": {},
   "source": [
    "## View the dataset"
   ]
  },
  {
   "cell_type": "code",
   "execution_count": null,
   "metadata": {},
   "outputs": [],
   "source": [
    "# choose one recording session (20) to get labels\n",
    "session_20 = steinmetz_data[20]\n",
    "keys = session_20.keys()\n",
    "print(keys)"
   ]
  },
  {
   "cell_type": "code",
   "execution_count": null,
   "metadata": {},
   "outputs": [],
   "source": [
    "for key in session_20.keys():\n",
    "    dataset_info = session_20[key]\n",
    "    if isinstance (dataset_info, np.ndarray):\n",
    "        print(key, dataset_info.shape, \" - array\")\n",
    "    elif isinstance (dataset_info, list):\n",
    "        print(key, len(dataset_info), \" - list\")\n",
    "    else: \n",
    "        print(key, type(dataset_info), \" - other\")"
   ]
  },
  {
   "cell_type": "code",
   "execution_count": null,
   "metadata": {},
   "outputs": [],
   "source": [
    "table = pd.DataFrame(columns=['session', 'mouse_name', 'n_neuron'] + ubs)\n",
    "\n",
    "for i in range(steinmetz_data.shape[0]):\n",
    "    this_session: dict = {}\n",
    "    unique_area = list(np.unique(steinmetz_data[i]['brain_area']))\n",
    "    this_session['session'] = i\n",
    "    this_session['mouse_name'] = steinmetz_data[i]['mouse_name']\n",
    "    this_session['n_neuron'] = steinmetz_data[i]['spks'].shape[0]\n",
    "    this_session['n_trial'] = steinmetz_data[i]['spks'].shape[1]\n",
    "    \n",
    "    for ea_new_area in unique_area:\n",
    "        n_neuron, n_trial, _ = (steinmetz_data[i]['spks'][steinmetz_data[i]['brain_area'] == ea_new_area]).shape\n",
    "        this_session[ea_new_area] = n_neuron\n",
    "\n",
    "    table = table.append(this_session, ignore_index=True)\n",
    "table = table.fillna(0)\n",
    "pathlib.Path('/Users/sophiabatchelor/Code/SteinmetzAnalyses/Images').mkdir(parents=True, exist_ok=True)\n",
    "dfi.export(table, '/Users/sophiabatchelor/Code/SteinmetzAnalyses/Images/steinmetz_all_data_table.png', max_cols=77)\n",
    "\n",
    "table"
   ]
  },
  {
   "cell_type": "markdown",
   "metadata": {},
   "source": [
    "## Data Wrangling"
   ]
  },
  {
   "cell_type": "code",
   "execution_count": null,
   "metadata": {},
   "outputs": [],
   "source": [
    "names = []\n",
    "for dat_i in steinmetz_data:\n",
    "    name = dat_i[\"mouse_name\"]\n",
    "    if name not in names:\n",
    "        names.append(name)\n",
    "print(\"Mice: {}\".format(names))"
   ]
  },
  {
   "cell_type": "code",
   "execution_count": null,
   "metadata": {},
   "outputs": [],
   "source": [
    "brain_areas_by_session_list = []\n",
    "\n",
    "for i in range(len(steinmetz_data)):\n",
    "    data = steinmetz_data[i]\n",
    "    session = i \n",
    "    brain_areas = data[\"brain_area\"]\n",
    "    areas_by_session = np.unique(brain_areas)\n",
    "    print(areas_by_session)\n",
    "    brain_areas_by_session_list.append(areas_by_session)\n",
    "#     that_sessions_go_cue_avg = np.mean(data['gocue']) TODO: decide on which gocou avg is needed\n",
    "#     print(i)\n",
    "#     print(data[\"mouse_name\"])\n",
    "#     print(that_sessions_go_cue_avg)\n",
    "    "
   ]
  },
  {
   "cell_type": "code",
   "execution_count": null,
   "metadata": {},
   "outputs": [],
   "source": [
    "brain_areas = []\n",
    "for i in range(steinmetz_data.shape[0]):\n",
    "    unique_area = np.unique(steinmetz_data[i]['brain_area']) # check this line for the \n",
    "    for u in unique_area:\n",
    "        brain_areas.append(u)\n",
    "ubs = list(np.unique(brain_areas))"
   ]
  },
  {
   "cell_type": "code",
   "execution_count": null,
   "metadata": {},
   "outputs": [],
   "source": []
  },
  {
   "cell_type": "code",
   "execution_count": null,
   "metadata": {},
   "outputs": [],
   "source": []
  },
  {
   "cell_type": "code",
   "execution_count": 3,
   "metadata": {},
   "outputs": [
    {
     "ename": "NameError",
     "evalue": "name 'steinmetz_data' is not defined",
     "output_type": "error",
     "traceback": [
      "\u001b[0;31m---------------------------------------------------------------------------\u001b[0m",
      "\u001b[0;31mNameError\u001b[0m                                 Traceback (most recent call last)",
      "\u001b[0;32m<ipython-input-3-729b5e03d5e0>\u001b[0m in \u001b[0;36m<module>\u001b[0;34m\u001b[0m\n\u001b[1;32m      1\u001b[0m \u001b[0mmouse_dict\u001b[0m \u001b[0;34m=\u001b[0m \u001b[0;34m{\u001b[0m\u001b[0;34m}\u001b[0m \u001b[0;31m# create a dictionary\u001b[0m\u001b[0;34m\u001b[0m\u001b[0;34m\u001b[0m\u001b[0m\n\u001b[1;32m      2\u001b[0m \u001b[0;34m\u001b[0m\u001b[0m\n\u001b[0;32m----> 3\u001b[0;31m \u001b[0;32mfor\u001b[0m \u001b[0msession\u001b[0m\u001b[0;34m,\u001b[0m \u001b[0mdat_i\u001b[0m \u001b[0;32min\u001b[0m \u001b[0menumerate\u001b[0m\u001b[0;34m(\u001b[0m\u001b[0msteinmetz_data\u001b[0m\u001b[0;34m)\u001b[0m\u001b[0;34m:\u001b[0m\u001b[0;34m\u001b[0m\u001b[0;34m\u001b[0m\u001b[0m\n\u001b[0m\u001b[1;32m      4\u001b[0m     \u001b[0mname\u001b[0m \u001b[0;34m=\u001b[0m \u001b[0mdat_i\u001b[0m\u001b[0;34m[\u001b[0m\u001b[0;34m\"mouse_name\"\u001b[0m\u001b[0;34m]\u001b[0m\u001b[0;34m\u001b[0m\u001b[0;34m\u001b[0m\u001b[0m\n\u001b[1;32m      5\u001b[0m     \u001b[0;32mif\u001b[0m \u001b[0mname\u001b[0m \u001b[0;32mnot\u001b[0m \u001b[0;32min\u001b[0m \u001b[0mmouse_dict\u001b[0m\u001b[0;34m.\u001b[0m\u001b[0mkeys\u001b[0m\u001b[0;34m(\u001b[0m\u001b[0;34m)\u001b[0m\u001b[0;34m:\u001b[0m\u001b[0;34m\u001b[0m\u001b[0;34m\u001b[0m\u001b[0m\n",
      "\u001b[0;31mNameError\u001b[0m: name 'steinmetz_data' is not defined"
     ]
    }
   ],
   "source": [
    "mouse_dict = {} # create a dictionary \n",
    "\n",
    "for session, dat_i in enumerate(steinmetz_data):\n",
    "    name = dat_i[\"mouse_name\"]\n",
    "    if name not in mouse_dict.keys():\n",
    "        mouse_dict[name] = [dat_i]\n",
    "\n",
    "    else:\n",
    "        lst = mouse_dict[name]\n",
    "        lst.append(dat_i)\n",
    "        mouse_dict[name] = lst"
   ]
  },
  {
   "cell_type": "code",
   "execution_count": null,
   "metadata": {},
   "outputs": [],
   "source": [
    "for assigned_region in assigned_regions:\n",
    "    all_mice_names = []\n",
    "    all_mice_lines = None\n",
    "\n",
    "    for mouse in mouse_dict.keys():\n",
    "        mouse_data = mouse_dict[mouse] \n",
    "        num_sessions = len(mouse_dict[mouse])\n",
    "\n",
    "        spk_all_sessions = None\n",
    "        \n",
    "        for session in mouse_data:\n",
    "            spk_session = session['spks']            \n",
    "            if assigned_region in session['brain_area']:\n",
    "                spk_session_region = spk_session[session['brain_area'] == assigned_region]\n",
    "\n",
    "                # average over trials\n",
    "                spk_session_region_avg = np.mean(spk_session_region, axis=1)\n",
    "\n",
    "                if spk_all_sessions is not None:\n",
    "                    spk_all_sessions = np.concatenate((spk_all_sessions, spk_session_region_avg))\n",
    "                else:\n",
    "                    spk_all_sessions = spk_session_region_avg\n",
    "                    \n",
    "\n",
    "        # average over all neurons\n",
    "        if spk_all_sessions is not None:\n",
    "            name_i = mouse\n",
    "            all_mice_names.append(name_i)\n",
    "            mouse_i = np.mean(spk_all_sessions, axis=0)\n",
    "            mouse_i = np.expand_dims(mouse_i, 0)\n",
    "\n",
    "            if all_mice_lines is not None:\n",
    "                all_mice_lines = np.concatenate((all_mice_lines, mouse_i), axis = 0)\n",
    "            else:\n",
    "                all_mice_lines = mouse_i \n",
    "\n",
    "    plot = plt.figure(figsize=(20, 10))\n",
    "    plt.plot(all_mice_lines.T) # had to transpose so that time was on the x axis \n",
    "\n",
    "    plot.suptitle(\"Average Spiking of {}\".format(assigned_region))\n",
    "    plt.xlabel(\"Timebins\")  # change axis labels if you need reminders\n",
    "    plt.ylabel(\"Average Number of Spikes per time bin\")\n",
    "    plt.legend(all_mice_names, loc = \"upper right\")\n",
    "    pathlib.Path('/Users/sophiabatchelor/Code/SteinmetzAnalyses/Images/Plots').mkdir(parents=True, exist_ok=True)\n",
    "    plt.savefig('/Users/sophiabatchelor/Code/SteinmetzAnalyses/Images/Plots/Plotof{}.png'.format(assigned_region))\n",
    "    plt.show()"
   ]
  },
  {
   "cell_type": "code",
   "execution_count": null,
   "metadata": {},
   "outputs": [],
   "source": [
    "## NEXT STEPS:\n",
    "\n",
    "# output the plots using subplot \n",
    "# get the axes aligned\n",
    "# and also plot the go_cues with them "
   ]
  },
  {
   "cell_type": "code",
   "execution_count": null,
   "metadata": {},
   "outputs": [],
   "source": []
  }
 ],
 "metadata": {
  "kernelspec": {
   "display_name": "Python 3",
   "language": "python",
   "name": "python3"
  },
  "language_info": {
   "codemirror_mode": {
    "name": "ipython",
    "version": 3
   },
   "file_extension": ".py",
   "mimetype": "text/x-python",
   "name": "python",
   "nbconvert_exporter": "python",
   "pygments_lexer": "ipython3",
   "version": "3.7.6"
  }
 },
 "nbformat": 4,
 "nbformat_minor": 2
}
