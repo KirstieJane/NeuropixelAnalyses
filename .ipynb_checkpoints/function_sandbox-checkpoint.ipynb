{
 "cells": [
  {
   "cell_type": "code",
   "execution_count": null,
   "metadata": {},
   "outputs": [],
   "source": [
    "def download_steinmetz():\n",
    "    import os, requests\n",
    "    \n",
    "    fname = []\n",
    "    for i in range(3): # 11.10.2020 the neuropixel dataset is in 3 separate files \n",
    "        fname.append('/Users/sophiabatchelor/Code/SteinmetzAnalyses/steinmetz_part%d.npz'%i)\n",
    "    url = ['https://osf.io/agvxh/download']\n",
    "    url.append('https://osf.io/uv3mw/download')\n",
    "    url.append('https://osf.io/ehmw2/download')\n",
    "\n",
    "    for i in range(len(url)):\n",
    "        if not os.path.isfile(fname[i]):\n",
    "            try:\n",
    "                r = requests.get(url[i])\n",
    "            except requests.ConnectionError:\n",
    "                print('Data could not download!')\n",
    "            else:\n",
    "                if r.status_code != requests.codes.ok:\n",
    "                    print('Data could not download!')\n",
    "            else:\n",
    "                with open(fname[i], 'wb') as fid:\n",
    "                    fid.write(r.content)"
   ]
  },
  {
   "cell_type": "code",
   "execution_count": null,
   "metadata": {},
   "outputs": [],
   "source": [
    "def get_all_the_data(session):\n",
    "    if session < 0 or session > 38:\n",
    "        raise IndexError('The data loading has gone wrong, number returned %d.'%session)\n",
    "    elif session < 13:\n",
    "        dat = np.load('/Users/sophiabatchelor/Code/SteinmetzAnalyses/steinmetz_part0.npz', allow_pickle=True)['dat']\n",
    "    elif session < 26:\n",
    "        dat = np.load('/Users/sophiabatchelor/Code/SteinmetzAnalyses/steinmetz_part1.npz', allow_pickle=True)['dat']\n",
    "    else:\n",
    "        dat = np.load('/Users/sophiabatchelor/Code/SteinmetzAnalyses/steinmetz_part2.npz', allow_pickle=True)['dat']\n",
    "    return dat[session%13]"
   ]
  },
  {
   "cell_type": "code",
   "execution_count": null,
   "metadata": {},
   "outputs": [],
   "source": [
    "def mouse_name_list():\n",
    "    named_mice = []\n",
    "    for dat_c in steinmetz_data:\n",
    "        name = dat_c[\"mouse_name\"]\n",
    "        if name not in named_mice:\n",
    "            named_mice.append(name)\n",
    "    return named_mice"
   ]
  },
  {
   "cell_type": "code",
   "execution_count": null,
   "metadata": {},
   "outputs": [],
   "source": [
    "def recorded_areas():\n",
    "    for i in range (len(steinmetz_data)):\n",
    "        data = steinmetz_data[i]\n",
    "        session = i \n",
    "        print(i)\n",
    "        print(data[\"mouse_name\"])\n",
    "        brain_areas = data[\"brain_area\"]\n",
    "        areas_by_session = np.unique(brain_areas)"
   ]
  },
  {
   "cell_type": "code",
   "execution_count": null,
   "metadata": {},
   "outputs": [],
   "source": []
  }
 ],
 "metadata": {
  "kernelspec": {
   "display_name": "Python 3",
   "language": "python",
   "name": "python3"
  },
  "language_info": {
   "codemirror_mode": {
    "name": "ipython",
    "version": 3
   },
   "file_extension": ".py",
   "mimetype": "text/x-python",
   "name": "python",
   "nbconvert_exporter": "python",
   "pygments_lexer": "ipython3",
   "version": "3.7.6"
  }
 },
 "nbformat": 4,
 "nbformat_minor": 4
}
