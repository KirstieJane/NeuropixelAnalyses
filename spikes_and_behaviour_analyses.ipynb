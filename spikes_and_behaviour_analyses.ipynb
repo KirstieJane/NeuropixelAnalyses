{
 "cells": [
  {
   "cell_type": "code",
   "execution_count": null,
   "metadata": {},
   "outputs": [],
   "source": [
    "import pandas as pd\n",
    "import numpy as np\n",
    "import dataframe_image as dfi\n",
    "from matplotlib import rcParams \n",
    "from matplotlib import pyplot as plt\n",
    "\n",
    "rcParams['figure.figsize'] = [15, 5]\n",
    "rcParams['font.size'] = 15\n",
    "rcParams['axes.spines.top'] = False\n",
    "rcParams['axes.spines.right'] = False\n",
    "rcParams['figure.autolayout'] = True"
   ]
  },
  {
   "cell_type": "code",
   "execution_count": null,
   "metadata": {},
   "outputs": [],
   "source": [
    "import os, requests\n",
    "\n",
    "fname = []\n",
    "for j in range(3):\n",
    "    fname.append('steinmetz_part%d.npz'%j)\n",
    "url = ['https://osf.io/agvxh/download']\n",
    "url.append('https://osf.io/uv3mw/download')\n",
    "url.append('https://osf.io/ehmw2/download')\n",
    "\n",
    "for i in range(len(url)):\n",
    "    if not os.path.isfile(fname[i]):\n",
    "        try:\n",
    "            r = requests.get(url[i])\n",
    "        except requests.ConnectionError:\n",
    "            print(\"Data could not download!\")\n",
    "        else:\n",
    "            if r.status_code != requests.codes.ok:\n",
    "                print(\"Data could not download!\")\n",
    "            else:\n",
    "                with open(fname[i], \"wb\") as fid:\n",
    "                    fid.write(r.content)\n",
    "                    \n",
    "\n",
    "steinmetz_data = np.array([])\n",
    "for i in range(len(fname)):\n",
    "    steinmetz_data = np.hstack((steinmetz_data, np.load('steinmetz_part%d.npz'%i, allow_pickle=True)['dat']))"
   ]
  }
 ],
 "metadata": {
  "kernelspec": {
   "display_name": "Python 3",
   "language": "python",
   "name": "python3"
  },
  "language_info": {
   "codemirror_mode": {
    "name": "ipython",
    "version": 3
   },
   "file_extension": ".py",
   "mimetype": "text/x-python",
   "name": "python",
   "nbconvert_exporter": "python",
   "pygments_lexer": "ipython3",
   "version": "3.7.6"
  }
 },
 "nbformat": 4,
 "nbformat_minor": 4
}
