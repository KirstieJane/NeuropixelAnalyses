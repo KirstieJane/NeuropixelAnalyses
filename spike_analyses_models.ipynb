{
 "cells": [
  {
   "cell_type": "markdown",
   "metadata": {},
   "source": [
    "# Introduction\n",
    "## Research Question \n",
    "\n",
    "What is the information flow from visual stream to motor processing and how early in processing can we predict behavioural outcomes.\n",
    "- Can decoding models be trained by region \n",
    "- How accurate are the modeled regions at predicting a behaviour \n",
    "- Possible behaviours (correct vs. incorrect) \n",
    "- Movement of wheel"
   ]
  },
  {
   "cell_type": "markdown",
   "metadata": {},
   "source": [
    "## Brief background\n",
    "The Steinmetz (2018) dataset reported that neurons with action correlates are found globally and that neurons in nearly every brain region are non-selectively activated in the moments leading up to movement onset, however it is currently not known how the information integration occurs across the motor areas and how that integration gives rise to motor behaviour.\n",
    "\n",
    "Neuron population coding has been robustly used to decode motor behaviours across various species (Georgopoulos et al., 1986), and recent literature has suggested that motor preparation and planning uses distributed populations in corticomotor areas to plan motor movements. However this previous work has been limited by the number of electrodes and therefore areas measured in a single task.\n",
    "\n",
    "The following assignment seeks to take advantage of the multi-array recording from the Steinmetz (2018) neuropixel data set to investigate temporal aspects of motor behaviours."
   ]
  },
  {
   "cell_type": "markdown",
   "metadata": {},
   "source": [
    "# Data Analyses\n",
    ":brain: :mouse: :brain:\n",
    "\n",
    "## Set Up"
   ]
  },
  {
   "cell_type": "code",
   "execution_count": 231,
   "metadata": {},
   "outputs": [],
   "source": [
    "import pandas as pd\n",
    "import numpy as np\n",
    "import dataframe_image as dfi\n",
    "import pathlib\n",
    "from matplotlib import rcParams \n",
    "from matplotlib import pyplot as plt\n",
    "import emoji\n",
    "\n",
    "rcParams['figure.figsize'] = [15, 5]\n",
    "rcParams['font.size'] = 15\n",
    "rcParams['axes.spines.top'] = False\n",
    "rcParams['axes.spines.right'] = False\n",
    "rcParams['figure.autolayout'] = True"
   ]
  },
  {
   "cell_type": "code",
   "execution_count": 3,
   "metadata": {},
   "outputs": [],
   "source": [
    "import os, requests\n",
    "\n",
    "fname = []\n",
    "for i in range(3):\n",
    "    fname.append('steinmetz_part%d.npz'%i)\n",
    "url = ['https://osf.io/agvxh/download']\n",
    "url.append('https://osf.io/uv3mw/download')\n",
    "url.append('https://osf.io/ehmw2/download')\n",
    "\n",
    "for i in range(len(url)):\n",
    "    if not os.path.isfile(fname[i]):\n",
    "        try:\n",
    "            r = requests.get(url[i])\n",
    "        except requests.ConnectionError:\n",
    "            print(\"Data could not download!\")\n",
    "        else:\n",
    "            if r.status_code != requests.codes.ok:\n",
    "                print(\"Data could not download!\")\n",
    "            else:\n",
    "                with open(fname[i], \"wb\") as fid:\n",
    "                    fid.write(r.content)\n",
    "                    \n",
    "\n",
    "steinmetz_data = np.array([])\n",
    "for i in range(len(fname)):\n",
    "    steinmetz_data = np.hstack((steinmetz_data, np.load('steinmetz_part%d.npz'%i, allow_pickle=True)['dat']))"
   ]
  },
  {
   "cell_type": "markdown",
   "metadata": {},
   "source": [
    "## Exploring the data"
   ]
  },
  {
   "cell_type": "code",
   "execution_count": null,
   "metadata": {},
   "outputs": [],
   "source": [
    "# choose one recording session (20) to get labels\n",
    "session_20 = steinmetz_data[20]\n",
    "keys = session_20.keys()\n",
    "print(keys)"
   ]
  },
  {
   "cell_type": "code",
   "execution_count": null,
   "metadata": {},
   "outputs": [],
   "source": [
    "for key in session_20.keys():\n",
    "    dataset_info = session_20[key]\n",
    "    if isinstance (dataset_info, np.ndarray):\n",
    "        print(key, dataset_info.shape, \" - array\")\n",
    "    elif isinstance (dataset_info, list):\n",
    "        print(key, len(dataset_info), \" - list\")\n",
    "    else: \n",
    "        print(key, type(dataset_info), \" - other\")"
   ]
  },
  {
   "cell_type": "code",
   "execution_count": 6,
   "metadata": {},
   "outputs": [],
   "source": [
    "brain_areas = []\n",
    "for i in range(steinmetz_data.shape[0]):\n",
    "    unique_area = np.unique(steinmetz_data[i]['brain_area']) # check this line for the \n",
    "    for u in unique_area:\n",
    "        brain_areas.append(u)\n",
    "ubs = list(np.unique(brain_areas))"
   ]
  },
  {
   "cell_type": "code",
   "execution_count": 7,
   "metadata": {},
   "outputs": [],
   "source": [
    "table = pd.DataFrame(columns=['session', 'mouse_name', 'n_neuron'] + ubs)\n",
    "\n",
    "for i in range(steinmetz_data.shape[0]):\n",
    "    this_session: dict = {}\n",
    "    unique_barea = list(np.unique(steinmetz_data[i]['brain_area']))\n",
    "    this_session['session'] = i\n",
    "    this_session['mouse_name'] = steinmetz_data[i]['mouse_name']\n",
    "    this_session['n_neuron'] = steinmetz_data[i]['spks'].shape[0]\n",
    "    this_session['n_trial'] = steinmetz_data[i]['spks'].shape[1]\n",
    "    for ubrea in unique_barea:\n",
    "        n_neuron, n_trial, _ = (steinmetz_data[i]['spks'][steinmetz_data[i]['brain_area'] == ubrea]).shape\n",
    "        this_session[ubrea] = n_neuron\n",
    "\n",
    "    table = table.append(this_session, ignore_index=True)\n",
    "table = table.fillna(0)\n",
    "pathlib.Path('/Users/sophiabatchelor/Code/SteinmetzAnalyses/Images').mkdir(parents=True, exist_ok=True)\n",
    "dfi.export(table, '/Users/sophiabatchelor/Code/SteinmetzAnalyses/Images/steinmetz_all_data_table.png', max_cols=77)"
   ]
  },
  {
   "cell_type": "code",
   "execution_count": null,
   "metadata": {},
   "outputs": [],
   "source": [
    "table"
   ]
  },
  {
   "cell_type": "markdown",
   "metadata": {},
   "source": [
    "## Investigate Spiking Reponses"
   ]
  },
  {
   "cell_type": "code",
   "execution_count": 9,
   "metadata": {},
   "outputs": [],
   "source": [
    "# groupings of brain regions\n",
    "brain_regions = [\"vis ctx\", \"thal\", \"hipp\", \"other ctx\", \"midbrain\", \"basal ganglia\", \"cortical subplate\", \"other\"]\n",
    "brain_groupings = [[\"VISa\", \"VISam\", \"VISl\", \"VISp\", \"VISpm\", \"VISrl\"], # visual cortex\n",
    "                [\"CL\", \"LD\", \"LGd\", \"LH\", \"LP\", \"MD\", \"MG\", \"PO\", \"POL\", \"PT\", \"RT\", \"SPF\", \"TH\", \"VAL\", \"VPL\", \"VPM\"], # thalamus\n",
    "                [\"CA\", \"CA1\", \"CA2\", \"CA3\", \"DG\", \"SUB\", \"POST\"], # hippocampal\n",
    "                [\"ACA\", \"AUD\", \"COA\", \"DP\", \"ILA\", \"MOp\", \"MOs\", \"OLF\", \"ORB\", \"ORBm\", \"PIR\", \"PL\", \"SSp\", \"SSs\", \"RSP\",\" TT\"], # non-visual cortex\n",
    "                [\"APN\", \"IC\", \"MB\", \"MRN\", \"NB\", \"PAG\", \"RN\", \"SCs\", \"SCm\", \"SCig\", \"SCsg\", \"ZI\"], # midbrain\n",
    "                [\"ACB\", \"CP\", \"GPe\", \"LS\", \"LSc\", \"LSr\", \"MS\", \"OT\", \"SNr\", \"SI\"], # basal ganglia \n",
    "                [\"BLA\", \"BMA\", \"EP\", \"EPd\", \"MEA\"] # cortical subplate\n",
    "                ]"
   ]
  },
  {
   "cell_type": "code",
   "execution_count": 10,
   "metadata": {},
   "outputs": [],
   "source": [
    "mouse_dict = {} # create a dictionary \n",
    "\n",
    "for session, dat_i in enumerate(steinmetz_data):\n",
    "    name = dat_i[\"mouse_name\"]\n",
    "    if name not in mouse_dict.keys():\n",
    "        mouse_dict[name] = [dat_i]\n",
    "\n",
    "    else:\n",
    "        lst = mouse_dict[name]\n",
    "        lst.append(dat_i)\n",
    "        mouse_dict[name] = lst"
   ]
  },
  {
   "cell_type": "code",
   "execution_count": null,
   "metadata": {},
   "outputs": [],
   "source": [
    "assigned_region = \"VISp\"\n",
    "\n",
    "\n",
    "# analyse for all runs of a single mouse\n",
    "for mouse in [\"Cori\"]:\n",
    "    mouse_data =  mouse_dict[mouse] #list of the sessions corresponding to this mouse, [alldat[0], alldat[1], alldat[2]]\n",
    "    num_sessions = len(mouse_dict[mouse])\n",
    "\n",
    "    thing = None\n",
    "    for trial in mouse_data:\n",
    "        spk_trial = trial['spks']\n",
    "        if assigned_region in trial[\"brain_area\"]:\n",
    "            spk_trial_region = spk_trial[trial[\"brain_area\"] == assigned_region]\n",
    "\n",
    "            # average over trials\n",
    "            spk_trial_region_avg = np.mean(spk_trial_region, axis=1)\n",
    "\n",
    "            # take only values that are average above 0.2\n",
    "            spk_trial_region_avg_good = spk_trial_region_avg[np.mean(spk_trial_region_avg, axis=1) >= 0.2,:]\n",
    "\n",
    "            if thing is not None:\n",
    "                thing = np.concatenate((thing, spk_trial_region_avg_good))\n",
    "            else:\n",
    "                thing = spk_trial_region_avg_good\n",
    "\n",
    "    plot = plt.figure()\n",
    "    plt.plot(thing.T) \n",
    "    plot.suptitle(\"High Spiking Neurons in Cori's Primary Visual Cortex\")\n",
    "    plt.xlabel(\"Timebins\")\n",
    "    plt.ylabel(\"Average Number of Spikes\")\n",
    "    plt.savefig('/Users/sophiabatchelor/Code/SteinmetzAnalyses/Images/Plots/cori_v1_spks.png')\n",
    "    plt.show(plot)"
   ]
  },
  {
   "cell_type": "code",
   "execution_count": null,
   "metadata": {},
   "outputs": [],
   "source": []
  },
  {
   "cell_type": "code",
   "execution_count": 12,
   "metadata": {},
   "outputs": [],
   "source": [
    "# Group The data by mouse\n",
    "for session, dat_i in enumerate(steinmetz_data):\n",
    "    name = dat_i[\"mouse_name\"]\n",
    "    if name not in mouse_dict.keys():\n",
    "        mouse_dict[name] = [dat_i]\n",
    "\n",
    "    else:\n",
    "        lst = mouse_dict[name]\n",
    "        lst.append(dat_i)\n",
    "        mouse_dict[name] = lst"
   ]
  },
  {
   "cell_type": "code",
   "execution_count": 13,
   "metadata": {},
   "outputs": [
    {
     "name": "stdout",
     "output_type": "stream",
     "text": [
      "Mice: ['Cori', 'Forssmann', 'Hench', 'Lederberg', 'Moniz', 'Muller', 'Radnitz', 'Richards', 'Tatum', 'Theiler']\n"
     ]
    }
   ],
   "source": [
    "names = []\n",
    "for dat_i in steinmetz_data:\n",
    "    name = dat_i[\"mouse_name\"]\n",
    "    if name not in names:\n",
    "        names.append(name)\n",
    "print(\"Mice: {}\".format(names))"
   ]
  },
  {
   "cell_type": "code",
   "execution_count": 14,
   "metadata": {},
   "outputs": [],
   "source": [
    "assigned_regions = ['CA1', 'CA3',\"VISp\", \"VISpm\", \"VISrl\", \"VISam\", \"VISa\", \"DG\", \"MD\", \"MOs\", \"MG\", \"MOp\" ,]\n",
    "    # change this to be whichever regions are of interest\n",
    "    # !! NOTE !! the order matters\n",
    "\n",
    "### Note ### \n",
    "# LIST OF AREAS \n",
    "# \"VISp\", \"VISpm\", \"VISI\", \"VISrl\", \"VISam\", \"VISa\", 'CA1', 'CA3', \"DG\", \"CP\", \"SCm\", \"SCs\", \"SNr\", \"SSp\", \"ACA\", \"ILA\", \"GPe\", \"ACB\", \"APN\", \"BLA\", \"LD\", \"LGd\", \"LP\", \"LS\", \"MD\", \"MG\", \"MOp\", \"MOs\", \"MRN\", \"OLF\", \"ORB\", \"PAG\", \"PL\", \"PO\", \"POL\", \"POST\", \"RSP\", \"RT\", \"SUB\", \"ZI\", \"VPL\", \"VPM\"\n",
    "# VISI is throwing an error"
   ]
  },
  {
   "cell_type": "code",
   "execution_count": null,
   "metadata": {},
   "outputs": [],
   "source": [
    "for assigned_region in assigned_regions:\n",
    "    all_mice_names = []\n",
    "    all_mice_lines = None\n",
    "\n",
    "    for mouse in mouse_dict.keys():\n",
    "        mouse_data = mouse_dict[mouse] \n",
    "        num_sessions = len(mouse_dict[mouse])\n",
    "\n",
    "        spk_all_sessions = None\n",
    "        \n",
    "        for session in mouse_data:\n",
    "            spk_session = session['spks']            \n",
    "            if assigned_region in session['brain_area']:\n",
    "                spk_session_region = spk_session[session['brain_area'] == assigned_region]\n",
    "\n",
    "                # average over trials\n",
    "                spk_session_region_avg = np.mean(spk_session_region, axis=1)\n",
    "\n",
    "                if spk_all_sessions is not None:\n",
    "                    spk_all_sessions = np.concatenate((spk_all_sessions, spk_session_region_avg))\n",
    "                else:\n",
    "                    spk_all_sessions = spk_session_region_avg\n",
    "                    \n",
    "\n",
    "        # average over all neurons\n",
    "        if spk_all_sessions is not None:\n",
    "            name_i = mouse\n",
    "            all_mice_names.append(name_i)\n",
    "            mouse_i = np.mean(spk_all_sessions, axis=0)\n",
    "            mouse_i = np.expand_dims(mouse_i, 0)\n",
    "\n",
    "            if all_mice_lines is not None:\n",
    "                all_mice_lines = np.concatenate((all_mice_lines, mouse_i), axis = 0)\n",
    "            else:\n",
    "                all_mice_lines = mouse_i \n",
    "\n",
    "    plot = plt.figure(figsize=(10, 5))\n",
    "    plt.plot(all_mice_lines.T) # had to transpose so that time was on the x axis \n",
    "\n",
    "    plot.suptitle(\"Average Spiking of {}\".format(assigned_region))\n",
    "    plt.xlabel(\"Timebins\")  # change axis labels if you need reminders\n",
    "    plt.ylabel(\"Average Number of Spikes per time bin\")\n",
    "    plt.legend(all_mice_names, loc = \"upper right\")\n",
    "    pathlib.Path('/Users/sophiabatchelor/Code/SteinmetzAnalyses/Images/Plots').mkdir(parents=True, exist_ok=True)\n",
    "    plt.savefig('/Users/sophiabatchelor/Code/SteinmetzAnalyses/Images/Plots/Plotof{}.png'.format(assigned_region))\n",
    "    plt.show()"
   ]
  },
  {
   "cell_type": "markdown",
   "metadata": {},
   "source": [
    "## Relationship between spiking and behaviour"
   ]
  },
  {
   "cell_type": "code",
   "execution_count": null,
   "metadata": {},
   "outputs": [],
   "source": [
    "# analyses for Lederberg : session 11\n",
    "\n",
    "session_11 = steinmetz_data[11]\n",
    "\n",
    "dt = session_11['bin_size'] # 10ms bins\n",
    "NT = session_11['spks'].shape[-1]\n",
    "\n",
    "# ax = plt.subplot(1,5,1)\n",
    "response = session_11['response'] # right - nogo - left (-1, 0, 1)\n",
    "vis_right = session_11['contrast_right'] # 0 - low - high\n",
    "vis_left = session_11['contrast_left'] # 0 - low - high\n",
    "avg_gocue = (np.mean(session_11[\"gocue\"]))\n",
    "\n",
    "\n",
    "plt.plot(dt * np.arange(NT), 1 / dt * session_11['spks'][:,response>=0].mean(axis=(0,1))) # left responses\n",
    "plt.plot(dt * np.arange(NT), 1 / dt * session_11['spks'][:,response<0].mean(axis=(0,1))) # right responses\n",
    "plt.plot(dt * np.arange(NT), 1 / dt * session_11['spks'][:,vis_right>0].mean(axis=(0,1))) # right stimuli\n",
    "plt.plot(dt * np.arange(NT), 1 / dt * session_11['spks'][:,vis_right==0].mean(axis=(0,1))) # left stimuli\n",
    "plt.axvline(avg_gocue, color='black')\n",
    "\n",
    "plt.title(\"Session 11 Spike Frequency\")\n",
    "plt.xlabel(\"Time (sec)\")  # change axis labels if you need reminders\n",
    "plt.ylabel(\"Firing rate (Hz)\")\n",
    "plt.legend(['left resp', 'right resp', 'right stim', 'left stim', 'stimuli onset'], fontsize=14)\n",
    "pathlib.Path('/Users/sophiabatchelor/Code/SteinmetzAnalyses/Images/Plots/ResponseSpikeAnalyses').mkdir(parents=True, exist_ok=True)\n",
    "plt.savefig('/Users/sophiabatchelor/Code/SteinmetzAnalyses/Images/Plots/ResponseSpikeAnalyses/session_11_spikes.png')\n",
    "\n",
    "plt.show()\n"
   ]
  },
  {
   "cell_type": "code",
   "execution_count": 17,
   "metadata": {},
   "outputs": [],
   "source": [
    "regions = [\"vis ctx\", \"thal\", \"hipp\", \"other ctx\", \"midbrain\", \"basal ganglia\", \"cortical subplate\", \"other\"]\n",
    "brain_groups = [[\"VISa\", \"VISam\", \"VISl\", \"VISp\", \"VISpm\", \"VISrl\"], # visual cortex\n",
    "                [\"CL\", \"LD\", \"LGd\", \"LH\", \"LP\", \"MD\", \"MG\", \"PO\", \"POL\", \"PT\", \"RT\", \"SPF\", \"TH\", \"VAL\", \"VPL\", \"VPM\"], # thalamus\n",
    "                [\"CA\", \"CA1\", \"CA2\", \"CA3\", \"DG\", \"SUB\", \"POST\"], # hippocampal\n",
    "                [\"ACA\", \"AUD\", \"COA\", \"DP\", \"ILA\", \"MOp\", \"MOs\", \"OLF\", \"ORB\", \"ORBm\", \"PIR\", \"PL\", \"SSp\", \"SSs\", \"RSP\",\" TT\"], # non-visual cortex\n",
    "                [\"APN\", \"IC\", \"MB\", \"MRN\", \"NB\", \"PAG\", \"RN\", \"SCs\", \"SCm\", \"SCig\", \"SCsg\", \"ZI\"], # midbrain\n",
    "                [\"ACB\", \"CP\", \"GPe\", \"LS\", \"LSc\", \"LSr\", \"MS\", \"OT\", \"SNr\", \"SI\"], # basal ganglia \n",
    "                [\"BLA\", \"BMA\", \"EP\", \"EPd\", \"MEA\"] # cortical subplate\n",
    "                ]"
   ]
  },
  {
   "cell_type": "code",
   "execution_count": 18,
   "metadata": {},
   "outputs": [],
   "source": [
    "num_good_areas = 4 # only the top 4 regions are in this particular mouse\n",
    "neurons = len(session_11['brain_area']) # gives the number of neurons\n",
    "good_areas = num_good_areas * np.ones(neurons, ) # note: last brain region is \"other\"\n",
    "\n",
    "for i in range(num_good_areas):\n",
    "    good_areas[np.isin(session_11['brain_area'], brain_groups[i])] = i # assign a number to each region"
   ]
  },
  {
   "cell_type": "code",
   "execution_count": null,
   "metadata": {
    "scrolled": true
   },
   "outputs": [],
   "source": [
    "# Neural response to visual stimuli\n",
    "\n",
    "for i in range(num_good_areas):\n",
    "    fig, axs = plt.subplots(sharey = True)\n",
    "    plt.plot(1 / dt * session_11['spks'][good_areas == i][:,np.logical_and(vis_left == 0, vis_right > 0)].mean(axis=(0,1)))\n",
    "    plt.plot(1 / dt * session_11['spks'][good_areas == i][:,np.logical_and(vis_left == 0, vis_right == 0)].mean(axis=(0,1)))\n",
    "    plt.plot(1 / dt * session_11['spks'][good_areas == i][:,np.logical_and(vis_left > 0, vis_right == 0)].mean(axis=(0,1)))\n",
    "    plt.plot(1 / dt * session_11['spks'][good_areas == i][:,np.logical_and(vis_left > 0, vis_right > 0)].mean(axis=(0,1)))\n",
    "    \n",
    "    fig.suptitle('{} response to visual stimuli'.format(regions[i]))\n",
    "    plt.xlabel('Time (ms)')\n",
    "    plt.ylabel('Spike rate (Hz)')\n",
    "    plt.legend(['right cue', 'left cue', 'no_cue', 'spike response any cue'], fontsize=12)\n",
    "    plt.savefig('/Users/sophiabatchelor/Code/SteinmetzAnalyses/Images/Plots/ResponseSpikeAnalyses/session11_{}_vep.png'.format(regions[i]))"
   ]
  },
  {
   "cell_type": "code",
   "execution_count": null,
   "metadata": {},
   "outputs": [],
   "source": []
  },
  {
   "cell_type": "markdown",
   "metadata": {},
   "source": [
    "## Now let's model"
   ]
  },
  {
   "cell_type": "code",
   "execution_count": 240,
   "metadata": {},
   "outputs": [
    {
     "name": "stdout",
     "output_type": "stream",
     "text": [
      "🐛    🐛    🐛    🐛    🐛    🐛    🐛    🐛    🐛    🐛    🐛    🐛    🐛    🐛    🐛    🐛    🐛    🐛\n"
     ]
    }
   ],
   "source": [
    "print(emoji.emojize(':bug:    :bug:    :bug:    :bug:    :bug:    :bug:    :bug:    :bug:    :bug:    :bug:    :bug:    :bug:    :bug:    :bug:    :bug:    :bug:    :bug:    :bug:'))     "
   ]
  },
  {
   "cell_type": "code",
   "execution_count": 214,
   "metadata": {},
   "outputs": [],
   "source": [
    "from sklearn.linear_model import LogisticRegression\n",
    "from sklearn import metrics\n",
    "from sklearn.model_selection import train_test_split\n",
    "from sklearn.model_selection import cross_val_score"
   ]
  },
  {
   "cell_type": "code",
   "execution_count": 172,
   "metadata": {},
   "outputs": [],
   "source": [
    "session_data = steinmetz_data[11]\n",
    "num_timebins = session_data['spks'].shape[2]\n",
    "num_trials = session_data['spks'].shape[1]\n",
    "move = session_data['response'] # right - nogo - left (-1, 0, 1)\n",
    "regions = np.unique(session_data['brain_area'])\n",
    "spikes_in_a_region = {}\n",
    "for region in regions:\n",
    "    spikes_in_a_region[region] = session_data['spks'][np.where(session_data['brain_area']==region)]"
   ]
  },
  {
   "cell_type": "code",
   "execution_count": 141,
   "metadata": {},
   "outputs": [
    {
     "name": "stdout",
     "output_type": "stream",
     "text": [
      "Number of neurons recorded in all sessions: 698, Number of Trials: 340, Number of timebins: 250\n"
     ]
    }
   ],
   "source": [
    "session_spikes = session_data['spks']\n",
    "quick_info = session_spikes.shape\n",
    "print(\"Number of neurons recorded in all sessions: {}, Number of Trials: {}, Number of timebins: {}\".format(quick_info[0], quick_info[1], quick_info[2]))\n"
   ]
  },
  {
   "cell_type": "code",
   "execution_count": 190,
   "metadata": {},
   "outputs": [
    {
     "data": {
      "text/plain": [
       "array([0, 1, 0, 1, 1, 1, 1, 1, 1, 1, 1, 1, 1, 0, 1, 0, 1, 1, 1, 1, 1, 1,\n",
       "       1, 1, 1, 0, 1, 1, 1, 0, 1, 1, 0, 0, 1, 1, 1, 1, 1, 1, 1, 0, 1, 1,\n",
       "       1, 1, 1, 1, 1, 1, 1, 1, 1, 1, 1, 1, 1, 1, 1, 1, 0, 0, 1, 1, 0, 1,\n",
       "       1, 1, 0, 1, 1, 1, 0, 1, 0, 1, 1, 1, 1, 1, 1, 1, 1, 0, 1, 1, 1, 0,\n",
       "       1, 1, 1, 1, 1, 1, 1, 1, 0, 1, 1, 0, 1, 1, 1, 1, 1, 1, 0, 1, 1, 1,\n",
       "       1, 1, 0, 1, 1, 1, 0, 0, 1, 1, 1, 1, 0, 1, 0, 0, 1, 1, 1, 0, 1, 1,\n",
       "       1, 1, 1, 1, 1, 1, 1, 1, 0, 1, 1, 1, 1, 1, 1, 0, 1, 1, 0, 1, 1, 0,\n",
       "       0, 1, 0, 1, 1, 1, 1, 1, 1, 1, 1, 1, 1, 1, 1, 1, 1, 1, 1, 1, 1, 0,\n",
       "       1, 1, 0, 1, 1, 1, 1, 1, 1, 1, 0, 1, 1, 0, 1, 1, 1, 1, 1, 0, 1, 1,\n",
       "       1, 1, 1, 1, 1, 1, 0, 1, 1, 1, 0, 1, 1, 1, 1, 0, 1, 1, 1, 1, 0, 1,\n",
       "       1, 0, 1, 1, 1, 1, 0, 1, 1, 1, 1, 1, 1, 1, 1, 1, 1, 1, 1, 1, 1, 1,\n",
       "       0, 1, 1, 1, 1, 1, 1, 1, 1, 1, 1, 1, 1, 1, 1, 1, 1, 1, 1, 1, 1, 1,\n",
       "       1, 1, 1, 0, 1, 1, 1, 1, 1, 1, 1, 1, 1, 1, 1, 1, 1, 1, 1, 1, 1, 1,\n",
       "       1, 1, 1, 1, 1, 1, 1, 1, 1, 1, 0, 1, 1, 1, 1, 0, 1, 1, 1, 1, 0, 1,\n",
       "       1, 1, 1, 0, 1, 1, 1, 0, 1, 1, 1, 1, 1, 1, 1, 1, 1, 1, 1, 0, 0, 0,\n",
       "       0, 0, 0, 0, 0, 0, 0, 0, 0, 0])"
      ]
     },
     "execution_count": 190,
     "metadata": {},
     "output_type": "execute_result"
    }
   ],
   "source": [
    "Y = (move != 0).astype(int) # boolean true \n",
    "Y # 1D array"
   ]
  },
  {
   "cell_type": "code",
   "execution_count": 180,
   "metadata": {},
   "outputs": [],
   "source": [
    "target_regions = spikes_in_a_region.keys()\n",
    "scores = np.zeros((len(target_regions),num_timebins))\n",
    "for target_regions,(, spikes) in enumerate(spikes_in_a_region.items()):\n",
    "    for t in range(num_timebins):\n",
    "        X = spikes[:,:,t].T\n"
   ]
  },
  {
   "cell_type": "code",
   "execution_count": 183,
   "metadata": {},
   "outputs": [
    {
     "data": {
      "text/plain": [
       "(340, 100)"
      ]
     },
     "execution_count": 183,
     "metadata": {},
     "output_type": "execute_result"
    }
   ],
   "source": [
    "X.shape"
   ]
  },
  {
   "cell_type": "code",
   "execution_count": 188,
   "metadata": {},
   "outputs": [
    {
     "name": "stdout",
     "output_type": "stream",
     "text": [
      "dict_keys(['spks', 'wheel', 'pupil', 'response', 'response_time', 'bin_size', 'stim_onset', 'contrast_right', 'contrast_left', 'brain_area', 'feedback_time', 'feedback_type', 'gocue', 'mouse_name', 'date_exp', 'trough_to_peak', 'active_trials', 'contrast_left_passive', 'contrast_right_passive', 'spks_passive', 'pupil_passive', 'wheel_passive', 'prev_reward', 'ccf', 'ccf_axes', 'cellid_orig', 'reaction_time', 'face', 'face_passive', 'licks', 'licks_passive'])\n"
     ]
    }
   ],
   "source": [
    "# check if the function is actually reading in the files okay\n",
    "alldata = np.array([])\n",
    "for j in range(2):\n",
    "    alldata = np.hstack((alldata, np.load('/Users/sophiabatchelor/Code/SteinmetzAnalyses/steinmetz_part%d.npz'%(j+1), allow_pickle=True)['dat']))\n",
    "data = alldata[11]\n",
    "print(data.keys())"
   ]
  },
  {
   "cell_type": "code",
   "execution_count": null,
   "metadata": {},
   "outputs": [],
   "source": []
  },
  {
   "cell_type": "code",
   "execution_count": null,
   "metadata": {},
   "outputs": [],
   "source": [
    "## BUGS ALL THE WAY DOWN \n",
    "\n",
    "# Note: data isn't the same shape \n",
    "\n",
    "### nextsteps: ###\n",
    "#     - strip back the functions \n",
    "#     - reshape or Transpose data"
   ]
  },
  {
   "cell_type": "code",
   "execution_count": null,
   "metadata": {},
   "outputs": [],
   "source": []
  },
  {
   "cell_type": "code",
   "execution_count": 227,
   "metadata": {},
   "outputs": [],
   "source": [
    "def prepare_data(session=11):\n",
    "    model_data = np.array([])\n",
    "    for j in range(2):\n",
    "        model_data = np.hstack((model_data, np.load('/Users/sophiabatchelor/Code/SteinmetzAnalyses/steinmetz_part%d.npz'%(j+1), allow_pickle=True)['dat']))\n",
    "    data = model_data[session]\n",
    "    num_trials = session_data['spks'].shape[1]\n",
    "    n_timebins = data['spks'].shape[2]\n",
    "    move = session_data['response'] # right - nogo - left (-1, 0, 1)\n",
    "    regions = np.unique(data['brain_area'])\n",
    "    spikes_per_region = dict()\n",
    "    for region in regions:\n",
    "        spikes_per_region[region] = data['spks'][np.where(data['brain_area']==region)]\n",
    "    return spikes_per_region, labels, n_timebins"
   ]
  },
  {
   "cell_type": "code",
   "execution_count": 228,
   "metadata": {},
   "outputs": [],
   "source": [
    "def simple_decoder(session=11):\n",
    "    model = LogisticRegression(penalty='l2',multi_class='ovr',solver='liblinear')\n",
    "    spikes_per_region, Y, n_timebins = prepare_data(session=session)\n",
    "    regions = spikes_per_region.keys()\n",
    "    scores = np.zeros((len(regions),n_timebins))\n",
    "    for region,(_, spikes) in enumerate(spikes_per_region.items()):\n",
    "        for t in range(n_timebins):\n",
    "            X = spikes[:,:,t].T\n",
    "            x = X.transpose()\n",
    "            score = cross_val_score(model, x, Y, cv=5)\n",
    "            scores[region,t] = np.mean(score)\n",
    "    return scores"
   ]
  },
  {
   "cell_type": "code",
   "execution_count": 229,
   "metadata": {},
   "outputs": [],
   "source": [
    "def plot_scores(scores,session,save_name):\n",
    "    spikes_per_region, _, n_timebins = prepare_data(session=session)\n",
    "    regions = spikes_per_region.keys()\n",
    "    \n",
    "    fig = plt.figure(figsize=[10,5])\n",
    "    contour = plt.contourf(scores)\n",
    "    cb = fig.colorbar(contour, shrink = 0.5, aspect = 5)\n",
    "    cb.set_label('Accuracy')\n",
    "    tick_marks = np.arange(len(regions))\n",
    "    plt.yticks(tick_marks, regions)\n",
    "    plt.xticks(np.arange(0,n_timebins,20), np.arange(0,n_timebins*10,200))\n",
    "    plt.ylabel('Brain area')\n",
    "    plt.xlabel('Time (ms)')\n",
    "    plt.tight_layout()\n",
    "    plt.show()\n",
    "# TODO create a dir in Images for the plot to be saved in \n",
    "#     fig.savefig(<path> + save_name, format='png')"
   ]
  },
  {
   "cell_type": "code",
   "execution_count": null,
   "metadata": {},
   "outputs": [],
   "source": [
    "if __name__==\"__main__\":\n",
    "    scores = simple_decoder(session = 12)\n",
    "    plot_scores(scores,12,'scores_s12.png')"
   ]
  },
  {
   "cell_type": "code",
   "execution_count": null,
   "metadata": {},
   "outputs": [],
   "source": [
    "def plot_all_sessions():\n",
    "    n_sessions = 39\n",
    "    for i in range(n_sessions):\n",
    "        scores = simple_decoder(session = i)\n",
    "        plot_scores(scores,i,'scores_s%d.png'%i)\n",
    "    \n",
    "if __name__==\"__main__\":\n",
    "    scores = simple_decoder(session=12)\n",
    "    plot_scores(scores,12,'scores_s12.png')\n",
    "    # plot_all_sessions()"
   ]
  },
  {
   "cell_type": "code",
   "execution_count": null,
   "metadata": {},
   "outputs": [],
   "source": []
  },
  {
   "cell_type": "code",
   "execution_count": 226,
   "metadata": {},
   "outputs": [],
   "source": [
    "\n",
    "for trial in range(num_trials): # this will run 340 times \n",
    "#     find the avg spike per time bin \n",
    "        \n",
    "    # get the avg spk_per_time_bin\n",
    "    list_of_spikes_in_a_trial = []\n",
    "    list_spk_avg_per_trial= []\n",
    "    for t in range(num_timebins):\n",
    "        spikes_in_a_trial = session_spikes[t,t,:]\n",
    "        list_of_spikes_in_a_trial.append(spikes_in_a_trial)\n",
    "        trial_spk_avg = np.mean(spikes_in_a_trial)\n",
    "        list_spk_avg_per_trial.append(trial_spk_avg)"
   ]
  },
  {
   "cell_type": "code",
   "execution_count": 139,
   "metadata": {},
   "outputs": [],
   "source": [
    "list_of_spikes_in_a_trial = []\n",
    "list_spk_avg_per_trial= []\n",
    "\n",
    "for t in range(num_timebins):\n",
    "    spikes_in_a_trial = session_spikes[t,t,:]\n",
    "    list_of_spikes_in_a_trial.append(spikes_in_a_trial)\n",
    "    trial_spk_avg = np.mean(spikes_in_a_trial)\n",
    "    list_spk_avg_per_trial.append(trial_spk_avg)"
   ]
  },
  {
   "cell_type": "code",
   "execution_count": 140,
   "metadata": {},
   "outputs": [
    {
     "data": {
      "text/plain": [
       "250"
      ]
     },
     "execution_count": 140,
     "metadata": {},
     "output_type": "execute_result"
    }
   ],
   "source": [
    "len(list_of_spikes_in_a_trial)"
   ]
  },
  {
   "cell_type": "code",
   "execution_count": 146,
   "metadata": {},
   "outputs": [
    {
     "data": {
      "text/plain": [
       "340"
      ]
     },
     "execution_count": 146,
     "metadata": {},
     "output_type": "execute_result"
    }
   ],
   "source": [
    "num_trials"
   ]
  },
  {
   "cell_type": "code",
   "execution_count": 160,
   "metadata": {},
   "outputs": [],
   "source": [
    "avg_spks_per_timebin = []\n",
    "\n",
    "for a_session in range(num_sessions):\n",
    "    spikes_in_bin = session_spikes[c,:,t]\n",
    "    avg_per_bin = np.mean(spikes_in_bin)\n",
    "    avg_spks_per_timebin.append(avg_per_bin)"
   ]
  },
  {
   "cell_type": "code",
   "execution_count": 161,
   "metadata": {},
   "outputs": [
    {
     "data": {
      "text/plain": [
       "[0.0029411764705882353, 0.0029411764705882353]"
      ]
     },
     "execution_count": 161,
     "metadata": {},
     "output_type": "execute_result"
    }
   ],
   "source": [
    "avg_spks_per_timebin"
   ]
  },
  {
   "cell_type": "code",
   "execution_count": null,
   "metadata": {},
   "outputs": [],
   "source": []
  },
  {
   "cell_type": "code",
   "execution_count": 93,
   "metadata": {},
   "outputs": [],
   "source": [
    "for t in range(num_timebins):\n",
    "    test_spks = test_set[t,t,:]\n",
    "test_spks"
   ]
  },
  {
   "cell_type": "code",
   "execution_count": null,
   "metadata": {},
   "outputs": [],
   "source": [
    "print(test_spks.ndim)\n",
    "print(test_spks.shape)"
   ]
  },
  {
   "cell_type": "code",
   "execution_count": 80,
   "metadata": {},
   "outputs": [],
   "source": [
    "for t in range(num_timebins):\n",
    "    test_bin_piece = test_set[:,:,t]\n",
    "test_bin_piece"
   ]
  },
  {
   "cell_type": "code",
   "execution_count": null,
   "metadata": {},
   "outputs": [],
   "source": [
    "print(test_bin_piece.ndim)\n",
    "print(test_bin_piece.shape)"
   ]
  },
  {
   "cell_type": "code",
   "execution_count": 100,
   "metadata": {},
   "outputs": [
    {
     "data": {
      "text/plain": [
       "array([0, 1, 0, 0, 0, 0, 0, 0, 0, 1, 0, 0, 0, 0, 0, 0, 0, 0, 0, 1, 0, 0,\n",
       "       0, 0, 0, 0, 0, 0, 0, 0, 0, 0, 0, 0, 0, 0, 0, 0, 0, 0, 0, 0, 0, 0,\n",
       "       0, 0, 0, 0, 0, 0, 0, 0, 0, 0, 0, 0, 0, 0, 0, 0, 0, 0, 0, 0, 0, 0,\n",
       "       0, 0, 0, 0, 0, 0, 0, 0, 0, 0, 0, 0, 0, 0, 0, 0, 0, 0, 0, 0, 0, 0,\n",
       "       0, 0, 0, 0, 0, 0, 0, 0, 0, 0, 0, 0, 0, 0, 0, 0, 0, 0, 0, 0, 0, 0,\n",
       "       1, 0, 0, 0, 0, 0, 1, 0, 0, 0, 0, 0, 0, 0, 0, 1, 0, 0, 0, 1, 0, 0,\n",
       "       0, 0, 0, 0, 1, 0, 0, 0, 0, 0, 0, 0, 0, 0, 0, 0, 0, 1, 0, 0, 0, 0,\n",
       "       0, 0, 0, 0, 0, 0, 0, 0, 0, 0, 0, 0, 0, 0, 0, 0, 0, 0, 0, 0, 0, 0,\n",
       "       0, 0, 0, 0, 0, 0, 0, 0, 0, 0, 0, 0, 0, 0, 0, 0, 0, 0, 0, 0, 0, 0,\n",
       "       0, 0, 0, 0, 0, 0, 0, 0, 0, 0, 0, 0, 0, 0, 0, 0, 0, 1, 0, 0, 0, 0,\n",
       "       0, 0, 0, 0, 0, 0, 0, 0, 0, 0, 0, 0, 0, 0, 0, 0, 0, 0, 0, 0, 0, 1,\n",
       "       0, 0, 0, 0, 0, 0, 0, 0], dtype=int8)"
      ]
     },
     "execution_count": 100,
     "metadata": {},
     "output_type": "execute_result"
    }
   ],
   "source": [
    "hat1 = test_set[0,0,:]\n",
    "hat1\n",
    "\n",
    "# 250 results -> these are the spikes in session"
   ]
  },
  {
   "cell_type": "code",
   "execution_count": 101,
   "metadata": {},
   "outputs": [
    {
     "data": {
      "text/plain": [
       "array([0, 0, 0, 0, 0, 0, 0, 0, 0, 0, 0, 0, 0, 0, 0, 0, 0, 0, 0, 0, 0, 0,\n",
       "       0, 0, 0, 0, 0, 0, 0, 0, 0, 0, 0, 0, 0, 0, 0, 0, 0, 0, 0, 0, 0, 0,\n",
       "       0, 0, 0, 0, 0, 0, 0, 0, 0, 0, 0, 0, 0, 0, 0, 0, 0, 0, 0, 0, 0, 0,\n",
       "       0, 0, 0, 0, 0, 0, 0, 0, 0, 0, 0, 0, 0, 0, 0, 0, 0, 0, 0, 0, 0, 0,\n",
       "       0, 0, 0, 0, 0, 0, 0, 0, 0, 0, 0, 0, 0, 0, 0, 0, 0, 0, 0, 0, 0, 0,\n",
       "       0, 0, 0, 0, 0, 0, 0, 0, 0, 0, 0, 0, 0, 0, 0, 0, 0, 0, 0, 0, 0, 0,\n",
       "       0, 0, 0, 0, 0, 0, 0, 0, 0, 0, 0, 0, 0, 0, 0, 0, 0, 0, 0, 0, 0, 0,\n",
       "       0, 0, 0, 0, 0, 0, 0, 0, 0, 0, 0, 0, 0, 0, 0, 0, 0, 0, 0, 0, 0, 0,\n",
       "       0, 0, 0, 0, 0, 0, 0, 0, 0, 0, 0, 0, 0, 0, 0, 0, 0, 0, 0, 0, 0, 0,\n",
       "       0, 1, 0, 0, 0, 0, 0, 0, 0, 0, 0, 0, 0, 0, 0, 0, 0, 0, 0, 1, 0, 0,\n",
       "       0, 0, 0, 0, 0, 0, 0, 0, 0, 0, 0, 0, 0, 0, 0, 0, 0, 0, 0, 0, 0, 0,\n",
       "       0, 0, 0, 0, 0, 0, 0, 0], dtype=int8)"
      ]
     },
     "execution_count": 101,
     "metadata": {},
     "output_type": "execute_result"
    }
   ],
   "source": [
    "hat2 = test_set[1,1,:]\n",
    "hat2"
   ]
  },
  {
   "cell_type": "code",
   "execution_count": 102,
   "metadata": {},
   "outputs": [
    {
     "data": {
      "text/plain": [
       "array([0, 0, 0, 0, 0, 1, 0, 0, 0, 0, 0, 0, 0, 0, 0, 0, 0, 0, 0, 0, 0, 0,\n",
       "       0, 0, 0, 0, 0, 0, 0, 0, 0, 0, 0, 0, 0, 0, 0, 0, 0, 0, 0, 1, 0, 0,\n",
       "       0, 1, 0, 0, 0, 0, 0, 0, 0, 0, 0, 0, 0, 0, 0, 0, 0, 0, 0, 0, 0, 0,\n",
       "       0, 0, 0, 0, 0, 0, 0, 0, 0, 0, 0, 0, 0, 0, 0, 0, 0, 0, 0, 0, 0, 0,\n",
       "       0, 0, 0, 0, 0, 0, 0, 0, 0, 0, 0, 0, 0, 0, 1, 0, 0, 0, 0, 0, 0, 0,\n",
       "       0, 0, 0, 0, 0, 0, 0, 0, 0, 0, 0, 0, 0, 0, 0, 0, 1, 0, 0, 0, 1, 0,\n",
       "       0, 0, 0, 0, 0, 0, 0, 0, 0, 0, 0, 0, 0, 0, 0, 1, 0, 0, 0, 0, 0, 0,\n",
       "       0, 0, 0, 0, 0, 0, 0, 0, 0, 0, 0, 0, 0, 0, 0, 0, 0, 0, 0, 0, 0, 0,\n",
       "       0, 0, 0, 0, 0, 0, 0, 0, 0, 0, 0, 0, 0, 0, 0, 0, 0, 0, 0, 0, 0, 0,\n",
       "       0, 0, 0, 0, 0, 0, 0, 0, 0, 0, 0, 0, 0, 0, 0, 0, 0, 0, 0, 0, 0, 0,\n",
       "       0, 0, 0, 0, 0, 0, 0, 0, 0, 0, 0, 0, 0, 0, 0, 0, 0, 0, 0, 0, 0, 0,\n",
       "       1, 0, 0, 0, 0, 0, 0, 0], dtype=int8)"
      ]
     },
     "execution_count": 102,
     "metadata": {},
     "output_type": "execute_result"
    }
   ],
   "source": [
    "hat3 = eqtest_setp[2,2,:]\n",
    "hat3"
   ]
  },
  {
   "cell_type": "code",
   "execution_count": 103,
   "metadata": {},
   "outputs": [
    {
     "data": {
      "text/plain": [
       "0.044"
      ]
     },
     "execution_count": 103,
     "metadata": {},
     "output_type": "execute_result"
    }
   ],
   "source": [
    "np.mean(hat1)"
   ]
  },
  {
   "cell_type": "code",
   "execution_count": 104,
   "metadata": {},
   "outputs": [
    {
     "data": {
      "text/plain": [
       "0.008"
      ]
     },
     "execution_count": 104,
     "metadata": {},
     "output_type": "execute_result"
    }
   ],
   "source": [
    "np.mean(hat2)"
   ]
  },
  {
   "cell_type": "code",
   "execution_count": 105,
   "metadata": {},
   "outputs": [
    {
     "data": {
      "text/plain": [
       "0.032"
      ]
     },
     "execution_count": 105,
     "metadata": {},
     "output_type": "execute_result"
    }
   ],
   "source": [
    "np.mean(hat3)"
   ]
  },
  {
   "cell_type": "code",
   "execution_count": 119,
   "metadata": {},
   "outputs": [],
   "source": [
    "list_the_spikes_in_a_session = []\n",
    "list_bin_means = []\n",
    "\n",
    "for t in range(num_timebins):\n",
    "    the_spikes_in_a_session = test_set[t,t,:]\n",
    "    list_the_spikes_in_a_session.append(the_spikes_in_a_session)\n",
    "    avg_per_bin = np.mean(the_spikes_in_a_session)\n",
    "    list_bin_means.append(avg_per_bin)"
   ]
  },
  {
   "cell_type": "code",
   "execution_count": null,
   "metadata": {},
   "outputs": [],
   "source": [
    "print(list_the_spikes_in_a_session)"
   ]
  },
  {
   "cell_type": "code",
   "execution_count": 118,
   "metadata": {},
   "outputs": [
    {
     "data": {
      "text/plain": [
       "250"
      ]
     },
     "execution_count": 118,
     "metadata": {},
     "output_type": "execute_result"
    }
   ],
   "source": [
    "len(list_the_spikes_in_a_session)"
   ]
  },
  {
   "cell_type": "code",
   "execution_count": 53,
   "metadata": {},
   "outputs": [
    {
     "data": {
      "text/plain": [
       "session              11\n",
       "mouse_name    Lederberg\n",
       "n_neuron            698\n",
       "ACA                  16\n",
       "ACB                   0\n",
       "                ...    \n",
       "VPL                   0\n",
       "VPM                   0\n",
       "ZI                    0\n",
       "root                100\n",
       "n_trial             340\n",
       "Name: 11, Length: 77, dtype: object"
      ]
     },
     "execution_count": 53,
     "metadata": {},
     "output_type": "execute_result"
    }
   ],
   "source": [
    "Lederb = table.iloc[11]\n",
    "Lederb"
   ]
  },
  {
   "cell_type": "code",
   "execution_count": null,
   "metadata": {},
   "outputs": [],
   "source": [
    "list_bin_means"
   ]
  },
  {
   "cell_type": "code",
   "execution_count": null,
   "metadata": {},
   "outputs": [],
   "source": []
  }
 ],
 "metadata": {
  "kernelspec": {
   "display_name": "Python 3",
   "language": "python",
   "name": "python3"
  },
  "language_info": {
   "codemirror_mode": {
    "name": "ipython",
    "version": 3
   },
   "file_extension": ".py",
   "mimetype": "text/x-python",
   "name": "python",
   "nbconvert_exporter": "python",
   "pygments_lexer": "ipython3",
   "version": "3.7.6"
  }
 },
 "nbformat": 4,
 "nbformat_minor": 2
}
